{
 "cells": [
  {
   "cell_type": "code",
   "execution_count": 2,
   "metadata": {},
   "outputs": [],
   "source": [
    "%matplotlib inline"
   ]
  },
  {
   "cell_type": "code",
   "execution_count": 3,
   "metadata": {},
   "outputs": [],
   "source": [
    "from matplotlib import pyplot as plt\n",
    "import numpy as np"
   ]
  },
  {
   "cell_type": "code",
   "execution_count": 4,
   "metadata": {},
   "outputs": [],
   "source": [
    "# goes length, width, color(red =1, blue -0)\n",
    "data = [[3,1.5,1],[2,1,0],[4,1.5,1],[3,1,0],[3.5,.5,1],[2,.5,0],[5.5,1,1],[1,1,0]]\n",
    "\n",
    "mystery_flower = [4.5,1]"
   ]
  },
  {
   "cell_type": "code",
   "execution_count": 5,
   "metadata": {},
   "outputs": [],
   "source": [
    "# newtwork parameters\n",
    "w1 = np.random.randn()\n",
    "w2 = np.random.randn()\n",
    "b  = np.random.randn()"
   ]
  },
  {
   "cell_type": "code",
   "execution_count": 6,
   "metadata": {},
   "outputs": [],
   "source": [
    "def sigmoid(x):\n",
    "    return 1/(1+np.exp(-x))\n",
    "def sigmoid_p(x):#derivative of sigmoid\n",
    "    return sigmoid(x)*(1-sigmoid(x))"
   ]
  },
  {
   "cell_type": "code",
   "execution_count": 7,
   "metadata": {},
   "outputs": [
    {
     "data": {
      "text/plain": [
       "[<matplotlib.lines.Line2D at 0x1735553eba8>]"
      ]
     },
     "execution_count": 7,
     "metadata": {},
     "output_type": "execute_result"
    },
    {
     "data": {
      "image/png": "[encoded data removed]",
      "text/plain": [
       "<Figure size 432x288 with 1 Axes>"
      ]
     },
     "metadata": {
      "needs_background": "light"
     },
     "output_type": "display_data"
    }
   ],
   "source": [
    "T = np.linspace(-20,20,100)\n",
    "Y = sigmoid_p(T)\n",
    "plt.plot(T,Y)"
   ]
  },
  {
   "cell_type": "code",
   "execution_count": 8,
   "metadata": {},
   "outputs": [
    {
     "data": {
      "image/png": "[encoded data removed]",
      "text/plain": [
       "<Figure size 432x288 with 1 Axes>"
      ]
     },
     "metadata": {
      "needs_background": "light"
     },
     "output_type": "display_data"
    }
   ],
   "source": [
    "#scatter plot of data\n",
    "plt.axis([0,6,0,6])\n",
    "plt.grid()\n",
    "\n",
    "for i in range(len(data)):\n",
    "    point = data[i]\n",
    "    color = \"r\"\n",
    "    if point[2] == 0: # if the point is blue\n",
    "        color = \"b\"# then make the color blue\n",
    "    plt.scatter(point[0],point[1],c=color)\n",
    "    \n",
    "    \n",
    "    \n"
   ]
  },
  {
   "cell_type": "code",
   "execution_count": 9,
   "metadata": {},
   "outputs": [],
   "source": [
    "#testing results with Test Data\n",
    "def accuracy():\n",
    "    correct = 0;\n",
    "    trials = 100\n",
    "    for i in range(trials):\n",
    "        ri = np.random.randint(len(data)) #random index that falls inside data's index's range\n",
    "        point = data[ri]\n",
    "\n",
    "        z = point[0]*w1 + point[1]*w2 +b\n",
    "        pred = sigmoid(z)\n",
    "        target = point[2]\n",
    "\n",
    "        if (pred > .5 and target == 1) or (pred < .5 and target == 0): \n",
    "            correct += 1\n",
    "    #print(\"Correct \"+ str(correct*100/trials))\n",
    "    return correct\n",
    "    \n",
    "    \n",
    "    "
   ]
  },
  {
   "cell_type": "code",
   "execution_count": 10,
   "metadata": {},
   "outputs": [
    {
     "name": "stdout",
     "output_type": "stream",
     "text": [
      "End of Training\n",
      "1.7124968760425359\n",
      "0.16382819155768072\n",
      "-4.277718235274433\n",
      "Predition for Mystery Flower: 0.9732041251757577\n"
     ]
    }
   ],
   "source": [
    "#training loop\n",
    "learning_rate = 0.2\n",
    "costsList = []\n",
    "#accuracyList = []\n",
    "w1 = np.random.randn()\n",
    "w2 = np.random.randn()\n",
    "b  = np.random.randn()\n",
    "\n",
    "#print(accuracy())\n",
    "#accuracyList.append(accuracy())\n",
    "\n",
    "for i in range(1000):\n",
    "    ri = np.random.randint(len(data)) #random index that falls inside data's index's range\n",
    "    point = data[ri]\n",
    "    \n",
    "    z = point[0]*w1 + point[1]*w2 +b\n",
    "    pred = sigmoid(z)\n",
    "    target = point[2]\n",
    "    cost = np.square(pred - target)\n",
    "    \n",
    "    dCost_pred = 2*(pred-target)\n",
    "    dpred_z = sigmoid_p(z)\n",
    "    \n",
    "    dz_dw1 = point[0]\n",
    "    dz_dw2 = point[1]\n",
    "    dz_db = 1\n",
    "    \n",
    "    dCost_dw1 = dCost_pred*dpred_z*dz_dw1\n",
    "    dCost_dw2 = dCost_pred*dpred_z*dz_dw2\n",
    "    dCost_db = dCost_pred*dpred_z*dz_db\n",
    "    \n",
    "    w1 -= learning_rate*dCost_dw1\n",
    "    w2 -= learning_rate*dCost_dw2\n",
    "    b -= learning_rate*dCost_db\n",
    "        \n",
    "    #if i % 100 == 0:\n",
    "        #print(\"Training Session: \"+ str(i))\n",
    "        #accuracyList.append(accuracy())\n",
    "\n",
    "        #costSum = 0\n",
    "       #for a in range(len(data)):\n",
    "        #    point = data[a]\n",
    "         #   z = point[0]*w1 + point[1]*w2 +b\n",
    "          #  pred = sigmoid(z)\n",
    "           # target = point[2]\n",
    "            #costSum += np.square(pred - target)\n",
    "        #costsList.append(costSum/len(data))   \n",
    "             \n",
    "print(\"End of Training\")\n",
    "print(str(w1))\n",
    "print(str(w2))\n",
    "print(str(b))\n",
    "accuracy()\n",
    "\n",
    "point = mystery_flower\n",
    "    \n",
    "z = point[0]*w1 + point[1]*w2 +b\n",
    "pred = sigmoid(z)\n",
    "\n",
    "print(\"Predition for Mystery Flower: \"+ str(pred))\n",
    "\n",
    "#print(accuracy())\n",
    "\n",
    "#accuracyList.append(accuracy())\n",
    "\n",
    "#plt.plot(accuracyList)\n",
    "    "
   ]
  },
  {
   "cell_type": "code",
   "execution_count": 15,
   "metadata": {},
   "outputs": [
    {
     "data": {
      "text/plain": [
       "79"
      ]
     },
     "execution_count": 15,
     "metadata": {},
     "output_type": "execute_result"
    }
   ],
   "source": [
    "\n"
   ]
  },
  {
   "cell_type": "code",
   "execution_count": 11,
   "metadata": {},
   "outputs": [],
   "source": [
    "import os"
   ]
  },
  {
   "cell_type": "code",
   "execution_count": null,
   "metadata": {},
   "outputs": [],
   "source": []
  },
  {
   "cell_type": "code",
   "execution_count": null,
   "metadata": {},
   "outputs": [],
   "source": []
  },
  {
   "cell_type": "code",
   "execution_count": null,
   "metadata": {},
   "outputs": [],
   "source": []
  }
 ],
 "metadata": {
  "kernelspec": {
   "display_name": "Python 3",
   "language": "python",
   "name": "python3"
  },
  "language_info": {
   "codemirror_mode": {
    "name": "ipython",
    "version": 3
   },
   "file_extension": ".py",
   "mimetype": "text/x-python",
   "name": "python",
   "nbconvert_exporter": "python",
   "pygments_lexer": "ipython3",
   "version": "3.7.2"
  }
 },
 "nbformat": 4,
 "nbformat_minor": 2
}
